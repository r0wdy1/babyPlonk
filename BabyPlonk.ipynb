{
 "cells": [
  {
   "cell_type": "markdown",
   "id": "5796af34-b283-4553-a258-a4a5ae898622",
   "metadata": {},
   "source": [
    "# The Task\n",
    "We want to create a protocol where a prover can prove that she knows a pythagorean triangle, such that $x^2+y^2=z^2$ without disclosing the actual values"
   ]
  },
  {
   "cell_type": "markdown",
   "id": "c184ffc4-092c-4528-a0e5-87cfd49ec297",
   "metadata": {},
   "source": [
    "# The plan\n",
    "As you might've guessed we're going to transform our statement into some cryptographic thing, that is verifiable(complete) and hard to forge (sound).\n",
    "So now we need to get a set of tools - everything that we need in order to be able to make his computation verifiable. Here's a small breakdown:\n",
    "\n",
    "1. Setup everything\n",
    "2. Arithmetization. We will transform our program into polynomials\n",
    "3. Committing to polynomials\n",
    "4. Verification"
   ]
  },
  {
   "cell_type": "markdown",
   "id": "e9ee4a3a-e64f-4541-a072-4ba3a66e149d",
   "metadata": {},
   "source": [
    "## Setup\n",
    "\n",
    "Cryptographic protocols are always based on some assumptions about underlying primitives. Plonk is based on polynomial commitment that use elliptic curve pairings. That's why we would first need a prime field, an elliptic curve with extension and some generators  to create Structured Reference String ( common parameters).\n",
    "\n",
    "SRS is some kind of secret question or query about the book that can show if the prover has read it or not, for example \"which is the letter on page 131 and position 19?\". Of course with books the problem is that the verifier would either read the book and check it directly or have a limited set of predefined queries, that could be easily fooled "
   ]
  },
  {
   "cell_type": "code",
   "execution_count": 202,
   "id": "8500c4b0-21a0-493c-8795-e79224c52ee1",
   "metadata": {
    "tags": []
   },
   "outputs": [
    {
     "data": {
      "text/plain": [
       "Elliptic Curve defined by y^2 = x^3 + 3 over Finite Field of size 101"
      ]
     },
     "execution_count": 202,
     "metadata": {},
     "output_type": "execute_result"
    }
   ],
   "source": [
    "F = GF(101) # prime field modulo 101\n",
    "curve = EllipticCurve(F, [0,3]) # y^2 = x^3 + 3\n",
    "curve"
   ]
  },
  {
   "cell_type": "markdown",
   "id": "49689086-30bb-4f28-ad3a-d72c99303010",
   "metadata": {},
   "source": [
    "Elliptic curve gives us a cyclic group, which means that every point can be generated from a single one:"
   ]
  },
  {
   "cell_type": "code",
   "execution_count": 203,
   "id": "97d52799-ade8-4fd7-87ac-7794be45d3af",
   "metadata": {
    "tags": []
   },
   "outputs": [
    {
     "data": {
      "text/plain": [
       "((76 : 29 : 1),)"
      ]
     },
     "execution_count": 203,
     "metadata": {},
     "output_type": "execute_result"
    }
   ],
   "source": [
    "curve.gens()"
   ]
  },
  {
   "cell_type": "markdown",
   "id": "e8de2c60-9558-46a0-907a-ffd19dfba851",
   "metadata": {},
   "source": [
    "The order of generator ( number of different points it generates) is the same as number of x coordinates and it additionally includs point in infinity "
   ]
  },
  {
   "cell_type": "code",
   "execution_count": 204,
   "id": "7cc86a6b-5c4a-4482-9317-349e79718669",
   "metadata": {
    "tags": []
   },
   "outputs": [
    {
     "data": {
      "text/plain": [
       "102"
      ]
     },
     "execution_count": 204,
     "metadata": {},
     "output_type": "execute_result"
    }
   ],
   "source": [
    "curve.gens()[0].order()"
   ]
  },
  {
   "cell_type": "markdown",
   "id": "dc3dfe8f-7dd9-4ac1-ada9-b6c0e6a7d487",
   "metadata": {
    "tags": []
   },
   "source": [
    "\n",
    "Since the order of the generator is not prime there are other subgroups with a generator that is a multiple $k*G$( or power $G^k$ depending on notation) of our original generator $G$. Then the order of those subgroups is $\\frac m {gcd(k,m)}$  We're interested in having a group with an order of 17, so our generator would be $G*6$"
   ]
  },
  {
   "cell_type": "code",
   "execution_count": 205,
   "id": "9bba60ca-9d18-4f4b-a2d8-a118ecc6e791",
   "metadata": {
    "tags": []
   },
   "outputs": [
    {
     "name": "stdout",
     "output_type": "stream",
     "text": [
      "(0 : 1 : 0)\n",
      "(32 : 42 : 1)\n",
      "(12 : 69 : 1)\n",
      "(1 : 2 : 1)\n",
      "(91 : 35 : 1)\n",
      "(65 : 3 : 1)\n",
      "(68 : 74 : 1)\n",
      "(18 : 49 : 1)\n",
      "(26 : 56 : 1)\n",
      "(26 : 45 : 1)\n",
      "(18 : 52 : 1)\n",
      "(68 : 27 : 1)\n",
      "(65 : 98 : 1)\n",
      "(91 : 66 : 1)\n",
      "(1 : 99 : 1)\n",
      "(12 : 32 : 1)\n",
      "(32 : 59 : 1)\n"
     ]
    }
   ],
   "source": [
    "for i in range(0,17):\n",
    "    print(i*6*curve.gens()[0])"
   ]
  },
  {
   "cell_type": "markdown",
   "id": "bc2e57bb-578d-4970-ab68-d5d43407f927",
   "metadata": {},
   "source": [
    "We can start from any point we want. This one looks slightly simpler"
   ]
  },
  {
   "cell_type": "code",
   "execution_count": 206,
   "id": "49df3f6e-f0f5-4795-9b76-11f7cdc10d36",
   "metadata": {
    "tags": []
   },
   "outputs": [
    {
     "name": "stdout",
     "output_type": "stream",
     "text": [
      "projective coordinates: (1 : 2 : 1)\n",
      "affine coordinates: (1, 2)\n",
      "order of G: 17\n"
     ]
    }
   ],
   "source": [
    "G1 = curve([1,2]) # point on curve with x=1 and y=2\n",
    "print('projective coordinates:',G1)\n",
    "print('affine coordinates:',G1.xy())\n",
    "print('order of G:', G1.order())"
   ]
  },
  {
   "cell_type": "code",
   "execution_count": 208,
   "id": "40288c9a-1c29-491c-a77c-5e9ab57adcfc",
   "metadata": {
    "tags": []
   },
   "outputs": [
    {
     "name": "stdout",
     "output_type": "stream",
     "text": [
      "0 (0 : 1 : 0)\n",
      "1 (1 : 2 : 1) (1, 2)\n",
      "2 (68 : 74 : 1) (68, 74)\n",
      "3 (26 : 45 : 1) (26, 45)\n",
      "4 (65 : 98 : 1) (65, 98)\n",
      "5 (12 : 32 : 1) (12, 32)\n",
      "6 (32 : 42 : 1) (32, 42)\n",
      "7 (91 : 35 : 1) (91, 35)\n",
      "8 (18 : 49 : 1) (18, 49)\n",
      "9 (18 : 52 : 1) (18, 52)\n",
      "10 (91 : 66 : 1) (91, 66)\n",
      "11 (32 : 59 : 1) (32, 59)\n",
      "12 (12 : 69 : 1) (12, 69)\n",
      "13 (65 : 3 : 1) (65, 3)\n",
      "14 (26 : 56 : 1) (26, 56)\n",
      "15 (68 : 27 : 1) (68, 27)\n",
      "16 (1 : 99 : 1) (1, 99)\n",
      "17 (0 : 1 : 0)\n"
     ]
    }
   ],
   "source": [
    "# multiplesOfG = [G1*i for i in range(17)]\n",
    "for i in range(0,G1.order()+1):\n",
    "    multiple = G1*i\n",
    "    if i%G1.order()!=0:\n",
    "        print(i,multiple,multiple.xy())\n",
    "    else:\n",
    "        print(i,multiple)"
   ]
  },
  {
   "cell_type": "code",
   "execution_count": 209,
   "id": "31a18138-ba15-4f70-9316-7b10dd7a066d",
   "metadata": {
    "tags": []
   },
   "outputs": [
    {
     "data": {
      "text/plain": [
       "((0 : 1 : 0), (0 : 1 : 0))"
      ]
     },
     "execution_count": 209,
     "metadata": {},
     "output_type": "execute_result"
    }
   ],
   "source": [
    "G1*0 , G1*17"
   ]
  },
  {
   "cell_type": "code",
   "execution_count": null,
   "id": "ac987931-eefe-42fb-9aba-1311b74db11e",
   "metadata": {},
   "outputs": [],
   "source": [
    "# cosets\n",
    "# G102 = curve.gens()[0]\n",
    "# for i in range(0,17):\n",
    "#     for j in range(1,7):\n",
    "#         point = i*6*G102+ j*G102\n",
    "#         print(i,'\\t',j,'\\t',i*6+j,'\\t',point,'\\t', point.order())"
   ]
  },
  {
   "cell_type": "markdown",
   "id": "2ff62b1e-f34c-415a-95b1-cc880a875bda",
   "metadata": {},
   "source": [
    "## Doubling a point on a curve\n",
    "If we have a point $P(x,y)$ and $D=P+P$ \n",
    "$$D_x = m^2-2*x$$\n",
    "$$D_y = m*((3*x-m^2) - y)$$\n",
    "where $m=3*x^2/y$"
   ]
  },
  {
   "cell_type": "code",
   "execution_count": 249,
   "id": "775aed69-a3f8-419c-9770-f69f658e77e1",
   "metadata": {
    "tags": []
   },
   "outputs": [
    {
     "name": "stdout",
     "output_type": "stream",
     "text": [
      "(1 : 2 : 1) (68 : 74 : 1) (65 : 98 : 1)\n",
      "(1 : 2 : 1) (68 : 74 : 1) (65 : 98 : 1)\n"
     ]
    }
   ],
   "source": [
    "def double(point):\n",
    "    m = 3*point.xy()[0]^2/(2*point.xy()[1])\n",
    "    return curve([m^2 - 2*point.xy()[0], m *(3*point.xy()[0] - m^2) -point.xy()[1]])\n",
    "print(G, double(G), double(double(G)))\n",
    "print(G, multiplesOfG[2],multiplesOfG[4])"
   ]
  },
  {
   "cell_type": "markdown",
   "id": "42ddae1e-7488-4290-8335-64167396a225",
   "metadata": {},
   "source": [
    "In $\\mathbb{R}$ we have infinite points that satisfy the equation, but in  $\\mathbb{Z}_p$ for every prime order $r$ ( 17 in our case) that divides $p-1$ we have $r$ generators $G*r + i*p/r*G$ "
   ]
  },
  {
   "cell_type": "markdown",
   "id": "2df7aff7-8d85-431a-a618-70bdbe6a14f1",
   "metadata": {},
   "source": [
    "We would need pairings for KZG polynomial commitments to work, which is why we need a second group from so called field extension. Field extension is created by adjoining a solution to a irreducible polynomial to the original field. There are points on the curve that are not in the original field just because some of $y$ values are not quadratic residues. To find a field extension for base field modulo $p$ that contains all of the points of order $r=17$ we need to choose a smalles $k$ such that $r|p^k-1$ , we choose 2 because 17 divides 101^2\n",
    "\n",
    "It works somewhat like complex numbers. First we choose a polynomial $x^2 + 2$ "
   ]
  },
  {
   "cell_type": "code",
   "execution_count": 333,
   "id": "7ee42bc1-f964-4965-9817-2866c305ed1f",
   "metadata": {
    "tags": []
   },
   "outputs": [
    {
     "data": {
      "text/plain": [
       "(x^2 + 2, True)"
      ]
     },
     "execution_count": 333,
     "metadata": {},
     "output_type": "execute_result"
    }
   ],
   "source": [
    "polynomials = F['x']\n",
    "p = polynomials([2,0,1])\n",
    "p, p.is_irreducible()"
   ]
  },
  {
   "cell_type": "markdown",
   "id": "b2c5b624-a6d1-4b2d-b5de-9b8863fbeac0",
   "metadata": {},
   "source": [
    "Then we define our new field $\\mathbb{F}_{p^2}$ . Here besides regular numbers we have a special element $u$ which is the solution for $x^2+2=0$"
   ]
  },
  {
   "cell_type": "code",
   "execution_count": 212,
   "id": "948dff74-8a68-4bca-8134-e1d13cb596c5",
   "metadata": {
    "tags": []
   },
   "outputs": [
    {
     "data": {
      "text/plain": [
       "[((68*u + 85, 65*u + 86), 102), ((45*u + 77, 18*u + 77), 102)]"
      ]
     },
     "execution_count": 212,
     "metadata": {},
     "output_type": "execute_result"
    }
   ],
   "source": [
    "F2.<u> = F.extension(F['x']([2,0,1]))\n",
    "curve2 = EllipticCurve(F2, [0,3])\n",
    "[(g.xy(),g.order()) for g in curve2.gens()]"
   ]
  },
  {
   "cell_type": "markdown",
   "id": "16be147f-d53b-43ed-88a1-b51718e5a50c",
   "metadata": {},
   "source": [
    "Our new field order is $101^2$"
   ]
  },
  {
   "cell_type": "code",
   "execution_count": 213,
   "id": "bc9e39a9-249c-4205-a34d-a00e703dd33f",
   "metadata": {
    "tags": []
   },
   "outputs": [
    {
     "data": {
      "text/plain": [
       "(10201, 10201)"
      ]
     },
     "execution_count": 213,
     "metadata": {},
     "output_type": "execute_result"
    }
   ],
   "source": [
    "101*101, F2.order()"
   ]
  },
  {
   "cell_type": "markdown",
   "id": "c2e59661-f785-4683-9dbf-0965875c4d95",
   "metadata": {},
   "source": [
    "This is our new generator G2 in F2 with the same order 17. The first one is suggested by Sage, the second one is it's multiple which is somewhat simpler to work with"
   ]
  },
  {
   "cell_type": "code",
   "execution_count": 214,
   "id": "7531a0b3-93f8-43fa-beb5-0c6d35ba7f18",
   "metadata": {
    "tags": []
   },
   "outputs": [
    {
     "name": "stdout",
     "output_type": "stream",
     "text": [
      "(u + 88 : 56 : 1) 17\n",
      "(36 : 31*u : 1) 17\n"
     ]
    }
   ],
   "source": [
    "G2 = curve2([36,31*u])\n",
    "print((curve2.gens()[0]*6),(curve2.gens()[0]*6).order())\n",
    "print(G2, G2.order())"
   ]
  },
  {
   "cell_type": "markdown",
   "id": "2609ea6a-8843-46d4-881c-d2c8204e433a",
   "metadata": {},
   "source": [
    "We can still check that the generator is indeed on the curve"
   ]
  },
  {
   "cell_type": "code",
   "execution_count": 215,
   "id": "132ba10d-96f7-4707-b2dc-8d4ce083b349",
   "metadata": {
    "tags": []
   },
   "outputs": [
    {
     "data": {
      "text/plain": [
       "True"
      ]
     },
     "execution_count": 215,
     "metadata": {},
     "output_type": "execute_result"
    }
   ],
   "source": [
    "x_coord = G2.xy()[0]\n",
    "y_coord = G2.xy()[1]\n",
    "y_coord^2 == x_coord^3 +3"
   ]
  },
  {
   "cell_type": "markdown",
   "id": "45ba3bc5-4610-48eb-a514-d629b2bffdbe",
   "metadata": {},
   "source": [
    "### Finaly generating SRS\n",
    "Now we're ready to create SRS, that will be used for polynomial commitments later. \n",
    "\n",
    "Plonk SRS depends on number of gates and contains powers of a secret $s$ multiplied by generators in both group:  $$SRS = \\{s^i * G_1\\}, {G_2, s*G_2}$$  where $0\\leq i \\leq n+5$ and $n$ is the number of gates\n",
    "For simplicity let $s=2$, of course normally it is generated in a secure MPC protocol and the secret ( aka toxic waste) is discarded afterwards.\n",
    "\n",
    "Apart from Groth16 the result of Plonk setup can be reused for different circuits, so it's not needed to perform a dedicated ceremony for each circuit. Furthermore the setup is updateable, which means that you can theoretically add some more entropy on top of it and that's it. Since this kind of MPC is relying on a single honest party having this properties gives much more agility and reliability, because you don't have to blindly trust the setup that was performed long ago, and you woudn't have to redo it every time some miniscule changes happen\n"
   ]
  },
  {
   "cell_type": "code",
   "execution_count": 216,
   "id": "937ade72-542d-4979-8d76-fe958a4bfa94",
   "metadata": {
    "tags": []
   },
   "outputs": [
    {
     "data": {
      "text/plain": [
       "{'G1_Points': [(1 : 2 : 1),\n",
       "  (68 : 74 : 1),\n",
       "  (65 : 98 : 1),\n",
       "  (18 : 49 : 1),\n",
       "  (1 : 99 : 1),\n",
       "  (68 : 27 : 1),\n",
       "  (65 : 3 : 1),\n",
       "  (18 : 52 : 1),\n",
       "  (1 : 2 : 1)],\n",
       " 'G2_Points': [(36 : 31*u : 1), (90 : 82*u : 1)]}"
      ]
     },
     "execution_count": 216,
     "metadata": {},
     "output_type": "execute_result"
    }
   ],
   "source": [
    "s=2\n",
    "SRS = {\n",
    "    'G1_Points':[s^i*G1 for i in range(9)],\n",
    "    'G2_Points':[G2, s*G2 ]\n",
    "}\n",
    "SRS"
   ]
  },
  {
   "cell_type": "markdown",
   "id": "e9ca512f-4d3d-4bd3-b42a-bd8e05db9f04",
   "metadata": {
    "tags": []
   },
   "source": [
    "# Arithmetization\n",
    "We have the following equations that encode Pythagorean triangle:\n",
    "\n",
    "$$ x_1 * x_1 = x_2  $$\n",
    "$$ x_3 * x_3 = x_4  $$\n",
    "$$ x_5 * x_5 = x_6  $$\n",
    "$$ x_2 + x_4 = x_6  $$\n",
    "\n",
    "It can be rewritten in a new notation where the left operand is always $a$ and right operand is always $b$ and the output of the operation is $c$:\n",
    "$$ a_1 * b_1 = c_1  $$\n",
    "$$ a_2 * b_2 = c_2  $$\n",
    "$$ a_3 * b_3 = c_3  $$\n",
    "$$ a_4 + b_4 = c_4  $$\n",
    "That change has actually brought more variables and have broken some of the constraints as all the rows are independent. This will be handled later by introducing \"copy constraints\"\n",
    "\n",
    "We encode all of the equations above using a general form of polynomial:\n",
    "\n",
    "\n",
    "$$q_L*a + q_R*b + q_O*c + q_M*(a*b) $$\n",
    "\n",
    "Here $q_L, q_R, q_O, q_M, q_A$ correspond to the variables and operations used in a constraint, so that for $ a_1 * b_1 = c_1$  the corresponding values are $q_L=0, q_R=0, q_O=-1, q_M =1$\n",
    "\n",
    "\n",
    "$$ 0*a_1 + 0*b_1 + 1* a_1 * b_1 +0*q_{const} - 1*c_1 = 0  $$\n",
    "$$ 0*a_2 + 0*b_2 + 1* a_2 * b_2 +0*q_{const}- 1*c_2 = 0  $$\n",
    "$$ 0*a_3 + 0*b_3 + 1* a_3 * b_3 +0*q_{const}- 1*c_3 = 0  $$\n",
    "$$ 1*a_4 + 1*b_4 + 0* a_2 * b_2 +0*q_{const}- 1*c_4 = 0  $$\n",
    "\n",
    "Now the prover has a valid assignment ( called witness) for this:\n",
    "\n",
    "$$\\vec{q_L} = [0,0,0,1]$$\n",
    "$$\\vec{q_R} = [0,0,0,1]$$\n",
    "$$\\vec{q_M} = [1,1,1,0]$$\n",
    "$$\\vec{q_O} = [-1,-1,-1,-1]$$\n",
    "$$\\vec{q_{const}}=[0,0,0,0]$$\n",
    "$$\\vec{a} = [3,4,5,9]$$\n",
    "$$\\vec{b} = [3,4,5,16]$$\n",
    "$$\\vec{c} = [9,16,25,25]$$\n"
   ]
  },
  {
   "cell_type": "code",
   "execution_count": 292,
   "id": "5769b4b8-2960-4721-86ad-4200efe96c67",
   "metadata": {
    "tags": []
   },
   "outputs": [],
   "source": [
    "q_L = [0,0,0,1]\n",
    "q_R = [0,0,0,1]\n",
    "q_O = [-1,-1,-1,-1]\n",
    "q_M = [1,1,1,0]\n",
    "q_const=[0,0,0,0]\n",
    "a = [3,4,5,9]\n",
    "b = [3,4,5,16]\n",
    "c = [9,16,25,25]"
   ]
  },
  {
   "cell_type": "markdown",
   "id": "789dec14-21f4-44df-b211-f2e0e9fc0632",
   "metadata": {},
   "source": [
    "Now we have to encode this values as polyonmials using Lagrange Interpolation. We can interpret each element of the vector as evaluation of the polynomial at some point. It would be more intuitive to use natural values like 1,2,3 and so on, but that makes certain computation much harder, and instead we will be using so called Roots of Unity.\n",
    "The main property of a primitive root of unity often marked as $\\omega$ or $\\zeta$ is that $\\omega^n=1$ and $\\omega^i\\neq 1, i<n$"
   ]
  },
  {
   "cell_type": "markdown",
   "id": "cb2b1224-e873-424c-b1ab-211adb2c12bb",
   "metadata": {},
   "source": [
    "It's important to note that we're dealing here with scalar field i.e. a field of scalar multipliers of our generators. It's different from base prime field. You can think about prime field as a square which limits all of the point cooordinates, so it limits moving along x and y axis. So scalar field limits how we move along the curve itself when we add the generator onto itself."
   ]
  },
  {
   "cell_type": "markdown",
   "id": "1b2b4429-a952-4e1f-bf83-311abe33f4ed",
   "metadata": {
    "tags": []
   },
   "source": [
    "Since we have just 4 gates, we need a 4th root of unity. Since we have a small group it would be easier to find $\\omega$ just by trying every element.\n",
    "\n",
    "The main idea is that for every element $x^{p-1}=1$. So we transform it to $(x^{(p-1)/n})^n=1$ so here $x^{(p-1)/n}$ is our $\\omega$\n"
   ]
  },
  {
   "cell_type": "code",
   "execution_count": 321,
   "id": "6c6962c1-8b6a-4efd-bcf6-c9ef57d170b9",
   "metadata": {
    "tags": []
   },
   "outputs": [
    {
     "name": "stdout",
     "output_type": "stream",
     "text": [
      "4\n"
     ]
    },
    {
     "data": {
      "text/plain": [
       "1"
      ]
     },
     "execution_count": 321,
     "metadata": {},
     "output_type": "execute_result"
    }
   ],
   "source": [
    "FF=GF(17)\n",
    "n=4\n",
    "def primitive_root_of_unity(n):\n",
    "    q = FF.order() - 1\n",
    "    if q % n != 0:\n",
    "        return 1\n",
    "    while True:\n",
    "        x = FF.random_element(1, q)\n",
    "        g = x**(q/FF(n))\n",
    "        if g**(FF(n)/FF(2)) != 1 and g != 0:\n",
    "            return g\n",
    "\n",
    "omega = primitive_root_of_unity(n)\n",
    "print(omega)\n",
    "FF(omega)^n"
   ]
  },
  {
   "cell_type": "markdown",
   "id": "20347072-ada8-41aa-8299-6deb5c01fc28",
   "metadata": {},
   "source": [
    "We have 4 and 13 as 4th roots of unity, we'll take 4 as the lesser one. Now we have to generate so called domain which is used to evaluate (or interpolate) our polynomials. The domain is just a set of powers of $\\omega$ that correspond to gates"
   ]
  },
  {
   "cell_type": "code",
   "execution_count": 26,
   "id": "3fc65a67-925f-4627-98a2-0928c981f69b",
   "metadata": {
    "tags": []
   },
   "outputs": [
    {
     "name": "stdout",
     "output_type": "stream",
     "text": [
      "[1, 4, 16, 13]\n"
     ]
    },
    {
     "data": {
      "text/plain": [
       "[[1, 4, 16, 13], [2, 8, 15, 9], [3, 12, 14, 5]]"
      ]
     },
     "execution_count": 26,
     "metadata": {},
     "output_type": "execute_result"
    }
   ],
   "source": [
    "domain = [omega^i for i in range(0,4)]\n",
    "print(domain)\n",
    "k1=2\n",
    "k2=3\n",
    "domain = [domain, [k1*omega for omega in domain],[k2*omega for omega in domain]]\n",
    "domain"
   ]
  },
  {
   "cell_type": "markdown",
   "id": "1e1b7a1f-b2e9-4012-ac5e-54d53ccef400",
   "metadata": {},
   "source": [
    "But we need more values for our constraints, so we generate a coset by shifting domain by two different constants $k_1$ and $k_2$. The resulting cosets should not overlap"
   ]
  },
  {
   "cell_type": "markdown",
   "id": "f9d1dd84-1e82-42d7-babd-7c6b04d03450",
   "metadata": {
    "tags": []
   },
   "source": [
    "Next we interpolate the polynomials using our domain"
   ]
  },
  {
   "cell_type": "code",
   "execution_count": 58,
   "id": "279b9cde-626b-4e88-bd50-b8dbb4f772b3",
   "metadata": {
    "tags": []
   },
   "outputs": [
    {
     "name": "stdout",
     "output_type": "stream",
     "text": [
      "f_a 3*x^3 + 3*x^2 + 13*x + 1\n",
      "f_b 13*x^3 + 14*x^2 + 3*x + 7\n",
      "f_c 4*x^3 + 11*x^2 + 5*x + 6\n",
      "f_q_L 16*x^3 + 4*x^2 + x + 13\n",
      "f_q_R 16*x^3 + 4*x^2 + x + 13\n",
      "f_q_O: 16\n",
      "f_q_M: x^3 + 13*x^2 + 16*x + 5\n",
      "f_q_const: 0\n"
     ]
    }
   ],
   "source": [
    "R=FF['x']\n",
    "f_a = R.lagrange_polynomial( [i for i in zip(domain[0],a)])\n",
    "f_b = R.lagrange_polynomial( [i for i in zip(domain[0],b)])\n",
    "f_c = R.lagrange_polynomial( [i for i in zip(domain[0],c)])\n",
    "f_q_L =  R.lagrange_polynomial( [i for i in zip(domain[0],q_L)])\n",
    "f_q_R =  R.lagrange_polynomial( [i for i in zip(domain[0],q_R)])\n",
    "f_q_O =  R.lagrange_polynomial( [i for i in zip(domain[0],q_O)])\n",
    "f_q_M =  R.lagrange_polynomial( [i for i in zip(domain[0],q_M)])\n",
    "f_q_const =  R.lagrange_polynomial( [i for i in zip(domain[0],q_const)])\n",
    "\n",
    "print('f_a',f_a)\n",
    "print('f_b',f_b)\n",
    "print('f_c',f_c)\n",
    "print('f_q_L',f_q_L)\n",
    "print('f_q_R',f_q_R)\n",
    "print('f_q_O:',f_q_O)\n",
    "print('f_q_M:',f_q_M)\n",
    "print('f_q_const:',f_q_const)"
   ]
  },
  {
   "cell_type": "code",
   "execution_count": 324,
   "id": "f0521f72-6729-414d-b377-bcf347146750",
   "metadata": {
    "tags": []
   },
   "outputs": [
    {
     "data": {
      "text/plain": [
       "([2, 8, 15, 3], [1, 4, 16, 12], [13, 9, 5, 14])"
      ]
     },
     "execution_count": 324,
     "metadata": {},
     "output_type": "execute_result"
    }
   ],
   "source": [
    "w = omega\n",
    "sigma_1 = [\n",
    "    k1*w^0,#first element of sigma_1 corresponds to a1. it is equal to b1 which has label k1*w^0\n",
    "    k1*w^1,#a2 = b2 , b elements have k shift\n",
    "    k1*w^2,#a3 = b3\n",
    "    k2*w^0 #a4 = c1. c labels have k2 shift\n",
    "          ]\n",
    "sigma_2 = [\n",
    "    w^0, #b1 = a1\n",
    "    w^1, #b2 = a2\n",
    "    w^2, #b3 = a3\n",
    "    k2*w^1 #b4 = c2 \n",
    "]\n",
    "sigma_3 = [\n",
    "    w^3, #c1 = a4\n",
    "    k1*w^3, #c2 = b4\n",
    "    k2*w^3, #c3 = c4\n",
    "    k2*w^2  #c4 = c3\n",
    "]\n",
    "sigma_1, sigma_2, sigma_3"
   ]
  },
  {
   "cell_type": "code",
   "execution_count": 329,
   "id": "95a7030e-3ce8-469e-86b9-fd4a42a78fad",
   "metadata": {
    "tags": []
   },
   "outputs": [
    {
     "data": {
      "text/plain": [
       "(6*x^3 + 10*x^2 + 13*x + 7, x^3 + 13*x^2 + 4, 14*x^3 + 3*x^2 + 7*x + 6)"
      ]
     },
     "execution_count": 329,
     "metadata": {},
     "output_type": "execute_result"
    }
   ],
   "source": [
    "s_sigma_1 = R.lagrange_polynomial(zip(domain[0],sigma_1))\n",
    "s_sigma_2 = R.lagrange_polynomial(zip(domain[0],sigma_2))\n",
    "s_sigma_3 = R.lagrange_polynomial(zip(domain[0],sigma_3))\n",
    "s_sigma_1,s_sigma_2,s_sigma_3"
   ]
  },
  {
   "cell_type": "markdown",
   "id": "cbbe9f64-203a-46d1-a1c4-b75fe5353437",
   "metadata": {},
   "source": [
    "### Round 1\n",
    "\n",
    "We generate 6 random values from $\\mathbb{F}_{17}$\n",
    "The prover has to form following polynomials\n",
    "\n",
    "$$a(x) = (b_1*x + b_2)*Z_H +f_a(x)$$\n",
    "$$b(x) = (b_3*x + b_4)*Z_H +f_b(x)$$\n",
    "$$c(x) = (b_5*x + b_6)*Z_H +f_c(x)$$\n",
    "\n",
    "where $Z_H$ is a vanishing polynomials, which means that it's equal to zero on all of the domain points. It's very easy to find, since we already know the 4th root of unity $\\omega$, so a polynomial $x^4-1$ will always be equal to zero on all of the domain points, since all of them are powers of $\\omega$:\n",
    "$$Z_H(w^i) = ((\\omega^i)^4-1) = ((\\omega^4)^i-1) = (1^4-1) = 0$$\n"
   ]
  },
  {
   "cell_type": "code",
   "execution_count": 252,
   "id": "a4d56918-18f7-41a4-990a-0c83efbbd027",
   "metadata": {
    "tags": []
   },
   "outputs": [
    {
     "data": {
      "text/plain": [
       "([7, 4, 11, 12, 16, 2], x^4 + 16)"
      ]
     },
     "execution_count": 252,
     "metadata": {},
     "output_type": "execute_result"
    }
   ],
   "source": [
    "# b = [FF.random_element() for i in range(6)]\n",
    "bs = [FF(i) for i in [7,4,11,12,16,2]]\n",
    "Z_H = R(x^4-1)\n",
    "bs, Z_H\n"
   ]
  },
  {
   "cell_type": "code",
   "execution_count": 378,
   "id": "44fad842-1f83-4759-ba54-393997cc7003",
   "metadata": {
    "tags": []
   },
   "outputs": [
    {
     "data": {
      "text/plain": [
       "(7*x^5 + 4*x^4 + 3*x^3 + 3*x^2 + 6*x + 14,\n",
       " 11*x^5 + 12*x^4 + 13*x^3 + 14*x^2 + 9*x + 12,\n",
       " 16*x^5 + 2*x^4 + 4*x^3 + 11*x^2 + 6*x + 4)"
      ]
     },
     "execution_count": 378,
     "metadata": {},
     "output_type": "execute_result"
    }
   ],
   "source": [
    "p_a = R([bs[1],bs[0]])*Z_H + f_a\n",
    "p_b = R([bs[3],bs[2]])*Z_H + f_b\n",
    "p_c = R([bs[5],bs[4]])*Z_H + f_c\n",
    "p_a,p_b,p_c"
   ]
  },
  {
   "cell_type": "markdown",
   "id": "3f6e65f8-3b84-4cfc-b2be-e8af702eb29f",
   "metadata": {},
   "source": [
    "Now have to commit to evaluations of this polynomials using SRS\n",
    "$$G*a(s)= G*\\sum_i^n a_i*s^i = \\sum_i^n a_i*(G*s^i) = \\sum_i^n (a_i*SRS_i)$$"
   ]
  },
  {
   "cell_type": "code",
   "execution_count": 379,
   "id": "0a7fad8e-4042-4423-8d88-e398bb73c1bc",
   "metadata": {
    "tags": []
   },
   "outputs": [
    {
     "data": {
      "text/plain": [
       "((91 : 66 : 1), (26 : 45 : 1), (91 : 35 : 1))"
      ]
     },
     "execution_count": 379,
     "metadata": {},
     "output_type": "execute_result"
    }
   ],
   "source": [
    "a_s = sum([t[0]*t[1] for t in zip(SRS['G1_Points'], p_a.coefficients())])\n",
    "b_s = sum([t[0]*t[1] for t in zip(SRS['G1_Points'], p_b.coefficients())])\n",
    "c_s = sum([t[0]*t[1] for t in zip(SRS['G1_Points'], p_c.coefficients())])\n",
    "a_s,b_s, c_s"
   ]
  },
  {
   "cell_type": "code",
   "execution_count": 577,
   "id": "3cb47b08-4436-455e-aa6f-b27f9b3fd7f0",
   "metadata": {
    "tags": []
   },
   "outputs": [],
   "source": [
    "def commit(polynomial):\n",
    "        return sum([t[0]*t[1] for t in zip(SRS['G1_Points'], polynomial.coefficients(sparse= False))])"
   ]
  },
  {
   "cell_type": "markdown",
   "id": "c3fca911-ffe9-4f24-aead-9551efcac38e",
   "metadata": {
    "tags": []
   },
   "source": [
    "We can also check ourselves and previos formula by evaluating the polynomials at \"secret\" $s$ point and multiply in by $G_1$"
   ]
  },
  {
   "cell_type": "code",
   "execution_count": 380,
   "id": "64eea508-e0c6-4cb9-91fb-edb0a107a462",
   "metadata": {
    "tags": []
   },
   "outputs": [
    {
     "data": {
      "text/plain": [
       "((91 : 66 : 1), (26 : 45 : 1), (91 : 35 : 1))"
      ]
     },
     "execution_count": 380,
     "metadata": {},
     "output_type": "execute_result"
    }
   ],
   "source": [
    "p_a(s)*G1, p_b(s)*G1, p_c(s)*G1"
   ]
  },
  {
   "cell_type": "markdown",
   "id": "88440164-e466-4072-bf74-9b3a64b4c30d",
   "metadata": {},
   "source": [
    "\n",
    "### Round 2\n",
    "\n",
    "Now we as the prover have to create a polynomial that is absorbs all the information about the copy constraints, and then we will commit to it evaluations as it was done previously:"
   ]
  },
  {
   "cell_type": "markdown",
   "id": "a7406df4-2c74-4eef-9bb0-caf8db2e7f3e",
   "metadata": {
    "tags": []
   },
   "source": [
    "Now we generate three more random values \n"
   ]
  },
  {
   "cell_type": "code",
   "execution_count": 257,
   "id": "00ed184b-f2bc-46eb-b27b-da1cc8750d43",
   "metadata": {
    "tags": []
   },
   "outputs": [],
   "source": [
    "bs = [FF(i) for i in [7,4,11,12,16,2,14,11,7]]"
   ]
  },
  {
   "cell_type": "code",
   "execution_count": 258,
   "id": "d9fc2360-e2c9-4cfa-b69a-3f1b612eafbc",
   "metadata": {
    "tags": []
   },
   "outputs": [],
   "source": [
    "# z = R([b[8],b[7],b[6]])*Z_H\n"
   ]
  },
  {
   "cell_type": "code",
   "execution_count": 285,
   "id": "179e4ee4-f6e5-4eed-9d88-3cef5d69b024",
   "metadata": {
    "tags": []
   },
   "outputs": [],
   "source": [
    "def numerator(i):\n",
    "    m1 = a[i-1] + betta*w^(i-1) + gamma\n",
    "    m2 = b[i-1] + betta* k1*w^(i-1) + gamma\n",
    "    m3 = c[i-1] + betta * k2*w^(i-1) + gamma\n",
    "    return m1*m2*m3\n",
    "    "
   ]
  },
  {
   "cell_type": "code",
   "execution_count": 286,
   "id": "c199b1a9-8b21-4819-bb70-f8ab3e7ab0dc",
   "metadata": {
    "tags": []
   },
   "outputs": [],
   "source": [
    "def denominator(i):\n",
    "    m1 = a[i-1] + betta*s_sigma_1(w^(i-1)) + gamma\n",
    "    m2 = b[i-1] + betta*s_sigma_2(w^(i-1)) + gamma\n",
    "    m3 = c[i-1] + betta*s_sigma_3(w^(i-1)) + gamma\n",
    "    return m1*m2*m3\n"
   ]
  },
  {
   "cell_type": "code",
   "execution_count": 272,
   "id": "6809b6f9-d60c-445c-9ba5-2b08f54b1ec5",
   "metadata": {
    "tags": []
   },
   "outputs": [],
   "source": [
    "def acc(i):\n",
    "    if i==0:\n",
    "        return 1\n",
    "    else:\n",
    "        return acc(i-1)*numerator(i)/denominator(i)"
   ]
  },
  {
   "cell_type": "code",
   "execution_count": 360,
   "id": "097a325b-1237-4333-b12b-a8a81dac64d3",
   "metadata": {
    "tags": []
   },
   "outputs": [
    {
     "name": "stdout",
     "output_type": "stream",
     "text": [
      "acc evaluations at domain: [1, 3, 9, 4]\n"
     ]
    }
   ],
   "source": [
    "betta = 12\n",
    "gamma = 13\n",
    "print('acc evaluations at domain:',[acc(i) for i in range(4)])\n",
    "acc_s = R.lagrange_polynomial([t for t in zip ( domain[0], [acc(i) for i in range(4)])])"
   ]
  },
  {
   "cell_type": "code",
   "execution_count": 363,
   "id": "8215967a-8a43-4011-a946-7de9dac2ba57",
   "metadata": {
    "tags": []
   },
   "outputs": [
    {
     "name": "stdout",
     "output_type": "stream",
     "text": [
      "14*x^6 + 11*x^5 + 7*x^4 + 14*x^3 + 8*x^2 + 5*x + 10\n"
     ]
    }
   ],
   "source": [
    "z = R([bs[8],bs[7],bs[6]])*Z_H + acc_s\n",
    "print(z)"
   ]
  },
  {
   "cell_type": "code",
   "execution_count": 372,
   "id": "bff69ae2-b44e-4235-a16a-b1b9b444df49",
   "metadata": {
    "tags": []
   },
   "outputs": [
    {
     "data": {
      "text/plain": [
       "(32 : 59 : 1)"
      ]
     },
     "execution_count": 372,
     "metadata": {},
     "output_type": "execute_result"
    }
   ],
   "source": [
    "commit(z)"
   ]
  },
  {
   "cell_type": "markdown",
   "id": "5349bdde-be05-4b2d-82a3-2b83dd9a803b",
   "metadata": {
    "tags": []
   },
   "source": [
    "### Round 3"
   ]
  },
  {
   "cell_type": "code",
   "execution_count": 429,
   "id": "a7a87f58-4988-4fdb-b1a8-1cf7ed85fc97",
   "metadata": {
    "tags": []
   },
   "outputs": [
    {
     "data": {
      "text/plain": [
       "13*x^3 + 13*x^2 + 13*x + 13"
      ]
     },
     "execution_count": 429,
     "metadata": {},
     "output_type": "execute_result"
    }
   ],
   "source": [
    "PI = R(0)\n",
    "alpha = 15\n",
    "L1 = R.lagrange_polynomial(zip(domain[0], [1,0,0,0]))\n",
    "L1"
   ]
  },
  {
   "cell_type": "code",
   "execution_count": 423,
   "id": "92b5a00f-ec5f-4f34-bbb0-68abf9d5bec6",
   "metadata": {
    "tags": []
   },
   "outputs": [
    {
     "data": {
      "text/plain": [
       "3*x^6 + 10*x^5 + 7*x^4 + 12*x^3 + 9*x^2 + 3*x + 10"
      ]
     },
     "execution_count": 423,
     "metadata": {},
     "output_type": "execute_result"
    }
   ],
   "source": [
    "zw = R([z.coefficients()[i]*w^i for i in range(len(z.coefficients()))])\n",
    "zw"
   ]
  },
  {
   "cell_type": "code",
   "execution_count": 487,
   "id": "b5b2b5e7-48f0-49ea-9147-837adf19b375",
   "metadata": {
    "tags": []
   },
   "outputs": [
    {
     "data": {
      "text/plain": [
       "9*x^13 + 7*x^12 + 8*x^11 + 9*x^10 + 5*x^9 + 10*x^8 + 5*x^7 + 3*x^6 + 3*x^5 + 16*x^4 + 4*x^3 + 5*x^2 + 1"
      ]
     },
     "execution_count": 487,
     "metadata": {},
     "output_type": "execute_result"
    }
   ],
   "source": [
    "t1zh = (p_a*p_b*f_q_M + p_a *f_q_L + p_b*f_q_R + p_c * f_q_O + PI + f_q_const)\n",
    "t1zh"
   ]
  },
  {
   "cell_type": "code",
   "execution_count": 481,
   "id": "7cf6a518-57bc-4ae6-99bf-d6fa080a67ba",
   "metadata": {
    "tags": []
   },
   "outputs": [
    {
     "data": {
      "text/plain": [
       "3*x^5 + 9*x^4 + 11*x^3 + 11*x^2 + 15*x + 14"
      ]
     },
     "execution_count": 481,
     "metadata": {},
     "output_type": "execute_result"
    }
   ],
   "source": [
    "t21 = alpha*(p_a + R([0,betta]) + gamma)\n",
    "t21"
   ]
  },
  {
   "cell_type": "code",
   "execution_count": 482,
   "id": "6020b809-ca7d-421c-a9a1-dba6ff59d31e",
   "metadata": {
    "tags": []
   },
   "outputs": [
    {
     "data": {
      "text/plain": [
       "11*x^5 + 12*x^4 + 13*x^3 + 14*x^2 + 16*x + 8"
      ]
     },
     "execution_count": 482,
     "metadata": {},
     "output_type": "execute_result"
    }
   ],
   "source": [
    "t22 = (p_b + R([0,betta*k1]) + gamma)\n",
    "t22"
   ]
  },
  {
   "cell_type": "code",
   "execution_count": 484,
   "id": "68a0897d-5058-4ca8-a3af-a0bf7bfe8d9f",
   "metadata": {
    "tags": []
   },
   "outputs": [
    {
     "data": {
      "text/plain": [
       "16*x^5 + 2*x^4 + 4*x^3 + 11*x^2 + 8*x"
      ]
     },
     "execution_count": 484,
     "metadata": {},
     "output_type": "execute_result"
    }
   ],
   "source": [
    "t23 = p_c + R([0,betta*k2]) + gamma\n",
    "t23"
   ]
  },
  {
   "cell_type": "code",
   "execution_count": 489,
   "id": "e1df86b7-6ad3-4337-a1b5-57ccb7acd53d",
   "metadata": {
    "tags": []
   },
   "outputs": [
    {
     "data": {
      "text/plain": [
       "14*x^21 + 14*x^20 + 2*x^19 + 15*x^18 + 8*x^17 + 16*x^16 + 16*x^15 + 4*x^14 + 12*x^13 + x^12 + 12*x^11 + 12*x^10 + 7*x^9 + 8*x^8 + 13*x^7 + 10*x^6 + 3*x^4 + 12*x^3 + x^2 + x"
      ]
     },
     "execution_count": 489,
     "metadata": {},
     "output_type": "execute_result"
    }
   ],
   "source": [
    "t2zh = t21*t22*t23*z\n",
    "t2zh"
   ]
  },
  {
   "cell_type": "code",
   "execution_count": 501,
   "id": "51c369eb-c4d3-4e67-9e0e-4f2b2faecce5",
   "metadata": {
    "tags": []
   },
   "outputs": [
    {
     "name": "stdout",
     "output_type": "stream",
     "text": [
      "3*x^5 + 9*x^4 + 3*x^3 + 9*x^2 + 16*x + 16\n",
      "11*x^5 + 12*x^4 + 8*x^3 + 9*x + 5\n",
      "16*x^5 + 2*x^4 + 2*x^3 + 13*x^2 + 5*x + 4\n",
      "3*x^6 + 10*x^5 + 7*x^4 + 12*x^3 + 9*x^2 + 3*x + 10\n",
      "14*x^21 + 10*x^20 + x^18 + 4*x^17 + 9*x^16 + 7*x^14 + 9*x^13 + 12*x^12 + 4*x^11 + 16*x^10 + 2*x^9 + 7*x^8 + 2*x^7 + 9*x^6 + 11*x^5 + 9*x^4 + 7*x^3 + 10*x^2 + 3*x + 13\n"
     ]
    }
   ],
   "source": [
    "t31 = alpha*(p_a+betta*s_sigma_1 + gamma)\n",
    "print(t31)\n",
    "t32 = (p_b + betta * s_sigma_2 + gamma)\n",
    "print( t32)\n",
    "t33 = (p_c + betta*s_sigma_3+gamma)\n",
    "print(t33)\n",
    "print (zw)\n",
    "t3zh = -t31 * t32* t33*zw\n",
    "print(t3zh)"
   ]
  },
  {
   "cell_type": "code",
   "execution_count": 509,
   "id": "f48f700d-d576-4d98-8179-907f73f55469",
   "metadata": {
    "tags": []
   },
   "outputs": [
    {
     "data": {
      "text/plain": [
       "14*x^9 + 8*x^8 + 15*x^7 + 12*x^6 + 6*x^5 + 2*x^3 + 5*x^2 + 14*x + 9"
      ]
     },
     "execution_count": 509,
     "metadata": {},
     "output_type": "execute_result"
    }
   ],
   "source": [
    "t4zh = (z-1)*L1 * alpha^2\n",
    "t4zh"
   ]
  },
  {
   "cell_type": "code",
   "execution_count": 533,
   "id": "b1ff16c5-e024-446a-a031-393738f0c9ef",
   "metadata": {
    "tags": []
   },
   "outputs": [
    {
     "data": {
      "text/plain": [
       "[11, 16, 13, 9, 0, 13, 13, 8, 1, 2, 10, 1, 15, 6, 16, 2, 7, 11]"
      ]
     },
     "execution_count": 533,
     "metadata": {},
     "output_type": "execute_result"
    }
   ],
   "source": [
    "t = R((t1zh+t2zh+t3zh+t4zh)/Z_H)\n",
    "t.coefficients(sparse=False)"
   ]
  },
  {
   "cell_type": "code",
   "execution_count": 554,
   "id": "71865c66-d882-4297-bceb-5c22dda13471",
   "metadata": {
    "tags": []
   },
   "outputs": [
    {
     "name": "stdout",
     "output_type": "stream",
     "text": [
      "13*x^5 + 9*x^3 + 13*x^2 + 16*x + 11\n",
      "13*x^5 + 9*x^3 + 13*x^2 + 16*x + 11\n",
      "x^5 + 10*x^4 + 2*x^3 + x^2 + 8*x + 13\n",
      "11*x^5 + 7*x^4 + 2*x^3 + 16*x^2 + 6*x + 15\n"
     ]
    }
   ],
   "source": [
    "t_lo=R(t.coefficients(sparse=False)[:6])\n",
    "t_mid = R(t.coefficients(sparse=False)[6:12])\n",
    "t_hi = R(t.coefficients(sparse=False)[12:])\n",
    "print(t_lo)\n",
    "print(R(t_lo))\n",
    "print(R(t_mid))\n",
    "print(R(t_hi))"
   ]
  },
  {
   "cell_type": "code",
   "execution_count": 567,
   "id": "fb9931fa-d2df-46b6-9d6b-7d1d1f5269bf",
   "metadata": {
    "tags": []
   },
   "outputs": [
    {
     "data": {
      "text/plain": [
       "True"
      ]
     },
     "execution_count": 567,
     "metadata": {},
     "output_type": "execute_result"
    }
   ],
   "source": [
    "t_check = t_lo + t_mid * R (x^6)  + t_hi*R(x^(2*6))\n",
    "t == t_check"
   ]
  },
  {
   "cell_type": "code",
   "execution_count": 580,
   "id": "dce7b626-71b8-42ef-8d45-76d80f3c00b8",
   "metadata": {
    "tags": []
   },
   "outputs": [
    {
     "data": {
      "text/plain": [
       "((12 : 32 : 1), (26 : 45 : 1), (91 : 66 : 1))"
      ]
     },
     "execution_count": 580,
     "metadata": {},
     "output_type": "execute_result"
    }
   ],
   "source": [
    "commit(t_lo),commit(t_mid),commit(t_hi)"
   ]
  },
  {
   "cell_type": "markdown",
   "id": "3b9343b7-f337-4958-9c19-a53448983d51",
   "metadata": {},
   "source": [
    "### Round 4"
   ]
  },
  {
   "cell_type": "code",
   "execution_count": 581,
   "id": "456b4219-caa9-41b6-bda5-7f439a6f5e8d",
   "metadata": {
    "tags": []
   },
   "outputs": [],
   "source": [
    "zeta = 5"
   ]
  },
  {
   "cell_type": "code",
   "execution_count": 588,
   "id": "3cb79513-1782-4157-a387-2cc9d72977dc",
   "metadata": {
    "tags": []
   },
   "outputs": [
    {
     "name": "stdout",
     "output_type": "stream",
     "text": [
      "15 13 5 1 12 13 1 15\n"
     ]
    }
   ],
   "source": [
    "a_zeta = comm_a(zeta)\n",
    "b_zeta = comm_b(zeta)\n",
    "c_zeta = comm_c(zeta)\n",
    "s_sigma_1_zeta = s_sigma_1(zeta)\n",
    "s_sigma_2_zeta = s_sigma_2(zeta)\n",
    "s_sigma_3_zeta = s_sigma_3(zeta)\n",
    "t_zeta = t(zeta)\n",
    "zw_zeta = zw(zeta)\n",
    "print (a_zeta, b_zeta, c_zeta, s_sigma_1_zeta, s_sigma_2_zeta, s_sigma_3_zeta, t_zeta, zw_zeta)"
   ]
  },
  {
   "cell_type": "code",
   "execution_count": 616,
   "id": "1d90fb62-8994-4d91-9335-300da37627f9",
   "metadata": {
    "tags": []
   },
   "outputs": [
    {
     "data": {
      "text/plain": [
       "6*x^5 + 2*x^4 + 16*x^2 + 11*x + 14"
      ]
     },
     "execution_count": 616,
     "metadata": {},
     "output_type": "execute_result"
    }
   ],
   "source": [
    "r1 = a_zeta * b_zeta * f_q_M + \\\n",
    "    a_zeta * f_q_L + b_zeta * f_q_R + \\\n",
    "    c_zeta * f_q_O + PI(zeta) + f_q_const\n",
    "r21 = (a_zeta + betta * zeta + gamma) * \\\n",
    "    (b_zeta + betta*k1*zeta + gamma) * \\\n",
    "    (c_zeta + betta * k2*zeta + gamma) * z*alpha\n",
    "r22 = (a_zeta + betta* s_sigma_1_zeta + gamma) *\\\n",
    "    (b_zeta + betta * s_sigma_2_zeta + gamma) * \\\n",
    "    (c_zeta + betta * s_sigma_3 + gamma)*zw*alpha\n",
    "r2 = r21 -  r22\n",
    "r3 = alpha^2*(z-1)*L1(zeta)\n",
    "r4 = Z_H(zeta)* (t_lo + zeta^6 * t_mid + zeta^12 * t_hi)\n",
    "r = r1 - r2 +r3 - r4\n",
    "r\n",
    "\n"
   ]
  },
  {
   "cell_type": "code",
   "execution_count": 608,
   "id": "455cbc96-7301-4e80-a4b8-650e333aad5a",
   "metadata": {
    "tags": []
   },
   "outputs": [
    {
     "data": {
      "text/plain": [
       "8*x^3 + 2*x^2 + 9*x + 6"
      ]
     },
     "execution_count": 608,
     "metadata": {},
     "output_type": "execute_result"
    }
   ],
   "source": [
    "a_zeta * b_zeta * f_q_M"
   ]
  },
  {
   "cell_type": "code",
   "execution_count": 610,
   "id": "b953bfba-4372-44e3-b772-d2b886160a79",
   "metadata": {
    "tags": []
   },
   "outputs": [
    {
     "data": {
      "text/plain": [
       "2*x^3 + 9*x^2 + 15*x + 8"
      ]
     },
     "execution_count": 610,
     "metadata": {},
     "output_type": "execute_result"
    }
   ],
   "source": [
    "a_zeta * f_q_L"
   ]
  },
  {
   "cell_type": "code",
   "execution_count": 612,
   "id": "0b5cd894-9186-458d-9e86-4329873ad122",
   "metadata": {
    "tags": []
   },
   "outputs": [
    {
     "data": {
      "text/plain": [
       "4*x^3 + x^2 + 13*x + 16"
      ]
     },
     "execution_count": 612,
     "metadata": {},
     "output_type": "execute_result"
    }
   ],
   "source": [
    "b_zeta * f_q_R"
   ]
  },
  {
   "cell_type": "code",
   "execution_count": 617,
   "id": "d46e0c80-8c35-4b60-837c-c757c2284d4a",
   "metadata": {
    "tags": []
   },
   "outputs": [
    {
     "data": {
      "text/plain": [
       "(12, 0, 0)"
      ]
     },
     "execution_count": 617,
     "metadata": {},
     "output_type": "execute_result"
    }
   ],
   "source": [
    "c_zeta * f_q_O,PI(zeta),f_q_const"
   ]
  },
  {
   "cell_type": "code",
   "execution_count": 622,
   "id": "4f38c652-18e9-4c9e-af1b-9146a41dd9b5",
   "metadata": {
    "tags": []
   },
   "outputs": [
    {
     "data": {
      "text/plain": [
       "(8*x^6 + 16*x^5 + 4*x^4 + 8*x^3 + 7*x^2 + 15*x + 13,\n",
       " 0,\n",
       " 8*x^6 + 16*x^5 + 4*x^4 + 8*x^3 + 7*x^2 + 15*x + 13)"
      ]
     },
     "execution_count": 622,
     "metadata": {},
     "output_type": "execute_result"
    }
   ],
   "source": [
    "r21,r22,r2"
   ]
  },
  {
   "cell_type": "code",
   "execution_count": 623,
   "id": "9b5208cd-d4c9-47f8-9ef9-900e85dcaa90",
   "metadata": {
    "tags": []
   },
   "outputs": [
    {
     "data": {
      "text/plain": [
       "8*x^6 + 16*x^5 + 4*x^4 + 8*x^3 + 7*x^2 + 15*x + 10"
      ]
     },
     "execution_count": 623,
     "metadata": {},
     "output_type": "execute_result"
    }
   ],
   "source": [
    "r3"
   ]
  }
 ],
 "metadata": {
  "kernelspec": {
   "display_name": "SageMath 9.8",
   "language": "sage",
   "name": "sagemath-9.8"
  },
  "language_info": {
   "codemirror_mode": {
    "name": "ipython",
    "version": 3
   },
   "file_extension": ".py",
   "mimetype": "text/x-python",
   "name": "python",
   "nbconvert_exporter": "python",
   "pygments_lexer": "ipython3",
   "version": "3.11.1"
  }
 },
 "nbformat": 4,
 "nbformat_minor": 5
}
